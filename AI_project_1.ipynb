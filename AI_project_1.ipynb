{
 "cells": [
  {
   "cell_type": "markdown",
   "metadata": {
    "id": "3Rys1aC6P3ql"
   },
   "source": [
    "## Importing all the necessary libraries"
   ]
  },
  {
   "cell_type": "code",
   "execution_count": 4,
   "metadata": {
    "id": "BU6AsWqQQAFs"
   },
   "outputs": [],
   "source": [
    "import numpy as np\n",
    "import matplotlib.pyplot as plt\n",
    "from PIL import Image\n",
    "%matplotlib inline\n",
    "from tqdm import tqdm\n",
    "from statistics import mean\n",
    "import pandas as pd\n"
   ]
  },
  {
   "cell_type": "code",
   "execution_count": 5,
   "metadata": {
    "id": "4bFc1zqGRuQC"
   },
   "outputs": [],
   "source": [
    "# pytorch packages\n",
    "import torch\n",
    "from torchvision import datasets, models, transforms, utils\n",
    "import torch.nn as nn\n",
    "from torch.nn import functional as F\n",
    "import torch.optim as optim"
   ]
  },
  {
   "cell_type": "code",
   "execution_count": 6,
   "metadata": {
    "colab": {
     "base_uri": "https://localhost:8080/"
    },
    "id": "h-kuD0aoD4b0",
    "outputId": "0376f2b6-a8f2-407a-87fe-e7fe73c1e3b3"
   },
   "outputs": [
    {
     "name": "stdout",
     "output_type": "stream",
     "text": [
      "cuda\n"
     ]
    }
   ],
   "source": [
    "# TO enable GPU. GO to runtime and change runtime type  to 'GPU'. if cuda the GPU is used for training\n",
    "device = torch.device(\"cuda\" if torch.cuda.is_available() else \"cpu available\")\n",
    "# device = 'cpu'\n",
    "print(device)"
   ]
  },
  {
   "cell_type": "code",
   "execution_count": null,
   "metadata": {
    "id": "jqsb3uqNSpcX"
   },
   "outputs": [],
   "source": [
    "#!unzip FaceMaskDataset.zip -d dataset\n",
    "# !unzip small.zip -d small\n",
    "# !unzip small/Validation/Validation.zip -d temp"
   ]
  },
  {
   "cell_type": "markdown",
   "metadata": {
    "id": "KHLUklINZsLy"
   },
   "source": [
    "## Load the Data, Data pre-processing and Data Augmentation\n",
    "\n",
    "1.   Normalization of all train, test, and validation dataset\n",
    "2.   Augmentation of Train dataset only.\n",
    "\n",
    "  1.   rescale all the image to 28x28\n",
    "  2.   rotate, crop, shear the immage\n",
    "\n",
    "\n",
    "\n"
   ]
  },
  {
   "cell_type": "code",
   "execution_count": 7,
   "metadata": {
    "id": "0xDKKfGzZwRI"
   },
   "outputs": [],
   "source": [
    "# training_path = 'dataset/Train'\n",
    "# valid_path = 'dataset/Validation'\n",
    "# test_path = 'dataset/Test'\n",
    "\n",
    "data_dir = 'dataset'\n",
    "# data_dir = 'small'"
   ]
  },
  {
   "cell_type": "code",
   "execution_count": 8,
   "metadata": {
    "colab": {
     "base_uri": "https://localhost:8080/"
    },
    "id": "s-DQNpIBTGG5",
    "outputId": "289a6a34-fddc-4d1b-e476-07c88a06fefb"
   },
   "outputs": [
    {
     "name": "stderr",
     "output_type": "stream",
     "text": [
      "100%|██████████| 3/3 [00:00<00:00, 13.00it/s]\n",
      "100%|██████████| 3/3 [00:00<00:00, 3726.06it/s]\n"
     ]
    },
    {
     "name": "stdout",
     "output_type": "stream",
     "text": [
      "torch.Size([4, 3, 224, 224])\n",
      "['NonHuman', 'WithMask', 'WithoutMask']\n"
     ]
    }
   ],
   "source": [
    "# def preprocessing(path, type):\n",
    "#   # Normalize a tensor image with mean and standard deviation.\n",
    "#   # output[channel] = (input[channel] - mean[channel]) / std[channel]\n",
    "#   normalize = transforms.Normalize(mean=(0.485, 0.456, 0.406), std=(0.229, 0.224, 0.225))\n",
    "#   transform = None\n",
    "#   if type == \"train\":\n",
    "#     transform = transforms.Compose([transforms.Resize((28,28)),transforms.RandomRotation(30),\n",
    "#             transforms.RandomHorizontalFlip(),\n",
    "#             transforms.ToTensor(), normalize])\n",
    "#     return datasets.ImageFolder(path, transform = transform)\n",
    "#   else:\n",
    "#     transform = transforms.Compose([transforms.Resize((28,28)),\n",
    "#             transforms.ToTensor(),normalize])\n",
    "#   return transform  \n",
    "\n",
    "# def dataload(path, type):\n",
    "#   \"\"\"\n",
    "#   \"\"\"\n",
    "#   return torch.utils.data.DataLoader(\n",
    "#       datasets.ImageFolder(training_path, preprocessing(path, type)),\n",
    "#       batch_size=24,\n",
    "#       shuffle=True,\n",
    "#       num_workers=2)  \n",
    "\n",
    "# # use this to load the data in batch of 24 \n",
    "# training_dataloader = dataload(training_path,\"train\")\n",
    "# validation_dataloader = dataload(valid_path, \"valid\")\n",
    "# testing_dataloader = dataload(test_path,\"test\")\n",
    "\n",
    "# REF: https://pytorch.org/tutorials/beginner/transfer_learning_tutorial.html\n",
    "# Just normalization for validation\n",
    "#### Bikash Transformation\n",
    "# data_transforms = {\n",
    "#     'Train': transforms.Compose([\n",
    "#         transforms.Resize(28),\n",
    "#         transforms.RandomRotation(30),\n",
    "#         transforms.RandomHorizontalFlip(),\n",
    "#         transforms.ToTensor(),\n",
    "#         transforms.Normalize([0.485, 0.456, 0.406], [0.229, 0.224, 0.225])\n",
    "#     ]),\n",
    "#     'Validation': transforms.Compose([\n",
    "#         transforms.Resize(28),\n",
    "#         transforms.ToTensor(),\n",
    "#         transforms.Normalize([0.485, 0.456, 0.406], [0.229, 0.224, 0.225])\n",
    "#     ]),\n",
    "#     'Test': transforms.Compose([\n",
    "#         transforms.Resize(28),\n",
    "#         transforms.ToTensor(),\n",
    "#         transforms.Normalize([0.485, 0.456, 0.406], [0.229, 0.224, 0.225])\n",
    "#     ]),\n",
    "# }\n",
    "\n",
    "#### Somaye Transformation\n",
    "data_transforms = {\n",
    "    'Train': transforms.Compose([\n",
    "        transforms.Resize(256),\n",
    "        transforms.CenterCrop(224),\n",
    "        # transforms.RandomRotation(30),\n",
    "        transforms.RandomHorizontalFlip(),\n",
    "        transforms.ToTensor(),\n",
    "        transforms.Normalize([0.485, 0.456, 0.406], [0.229, 0.224, 0.225])\n",
    "    ]),\n",
    "    'Validation': transforms.Compose([\n",
    "        transforms.Resize(256),\n",
    "        transforms.CenterCrop(224),\n",
    "        transforms.ToTensor(),\n",
    "        transforms.Normalize([0.485, 0.456, 0.406], [0.229, 0.224, 0.225])\n",
    "    ]),\n",
    "    'Test': transforms.Compose([\n",
    "        transforms.Resize(256),\n",
    "        transforms.CenterCrop(224),\n",
    "        transforms.ToTensor(),\n",
    "        transforms.Normalize([0.485, 0.456, 0.406], [0.229, 0.224, 0.225])\n",
    "    ]),\n",
    "}\n",
    "\n",
    "image_datasets = {x: datasets.ImageFolder(os.path.join(data_dir, x),\n",
    "                                          data_transforms[x])\n",
    "                  for x in tqdm(['Train', 'Validation', 'Test'])}\n",
    "# dataloaders = {x: torch.utils.data.DataLoader(image_datasets[x], batch_size=4,\n",
    "#                                              shuffle=True, num_workers=2)\n",
    "dataloaders = {x: torch.utils.data.DataLoader(image_datasets[x], batch_size=4,\n",
    "                                             shuffle=True, num_workers=2)\n",
    "              for x in ['Train', 'Validation', 'Test']}\n",
    "dataset_sizes = {x: len(image_datasets[x]) for x in tqdm(['Train', 'Validation', 'Test'])}\n",
    "class_names = image_datasets['Train'].classes\n",
    "\n",
    "device = torch.device(\"cuda:0\" if torch.cuda.is_available() else \"cpu\")\n",
    "\n",
    "\n",
    "inputs, classes = next(iter(dataloaders['Train']))\n",
    "print(inputs.shape)\n",
    "print(class_names)\n"
   ]
  },
  {
   "cell_type": "markdown",
   "metadata": {
    "id": "Iu2-N6gdZylS"
   },
   "source": []
  },
  {
   "cell_type": "code",
   "execution_count": 9,
   "metadata": {
    "colab": {
     "base_uri": "https://localhost:8080/",
     "height": 166
    },
    "id": "D2jY9hXxfDgm",
    "outputId": "1edf48f0-7ae0-4986-cdb9-ed7cf038a431"
   },
   "outputs": [
    {
     "name": "stderr",
     "output_type": "stream",
     "text": [
      "100%|██████████| 2/2 [00:00<00:00, 10381.94it/s]\n"
     ]
    },
    {
     "data": {
      "image/png": "[encoded data removed]",
      "text/plain": [
       "<Figure size 432x288 with 1 Axes>"
      ]
     },
     "metadata": {
      "needs_background": "light",
      "tags": []
     },
     "output_type": "display_data"
    }
   ],
   "source": [
    "def imshow(inp, title=None):\n",
    "    \"\"\"Imshow for Tensor.\"\"\"\n",
    "    inp = inp.numpy().transpose((1, 2, 0))\n",
    "    mean = np.array([0.485, 0.456, 0.406])\n",
    "    std = np.array([0.229, 0.224, 0.225])\n",
    "    inp = std * inp + mean\n",
    "    inp = np.clip(inp, 0, 1)\n",
    "    plt.imshow(inp)\n",
    "    if title is not None:\n",
    "        plt.title(title)\n",
    "    plt.pause(0.001)  # pause a bit so that plots are updated\n",
    "\n",
    "\n",
    "# Get a batch of training data\n",
    "inputs, classes = tqdm(next(iter(dataloaders['Train'])))\n",
    "\n",
    "# Make a grid from batch\n",
    "out = utils.make_grid(inputs)\n",
    "imshow(out, title=[class_names[x] for x in classes])"
   ]
  },
  {
   "cell_type": "code",
   "execution_count": null,
   "metadata": {
    "id": "RtYSouixfENO"
   },
   "outputs": [],
   "source": []
  },
  {
   "cell_type": "code",
   "execution_count": 18,
   "metadata": {
    "id": "ZNbkBZ8QRr5s"
   },
   "outputs": [],
   "source": [
    "def train(train_loader, model, optimizer):\n",
    "    losses = []\n",
    "    accs = []\n",
    "    output_labels = np.array([])\n",
    "\n",
    "    model.train()\n",
    "\n",
    "    for i, (images, target) in enumerate(tqdm(train_loader,position=0, leave=True)):\n",
    "        images, target = images.to(device), target.to(device)\n",
    "\n",
    "        # compute output\n",
    "        optimizer.zero_grad()\n",
    "\n",
    "        output = model(images)\n",
    "        prediction = output.argmax(1)\n",
    "        output_labels = np.append(output_labels, prediction.cpu().detach().numpy())\n",
    "        \n",
    "        # measure accuracy and record loss\n",
    "        loss = torch.nn.functional.cross_entropy(output, target)\n",
    "        loss.backward()\n",
    "        optimizer.step()\n",
    "\n",
    "        acc = accuracy(output, target)\n",
    "\n",
    "        # compute gradient and do SGD step\n",
    "        # optimizer.zero_grad()\n",
    "        # loss.backward()\n",
    "        # optimizer.step()\n",
    "        losses.append(loss.item())\n",
    "        accs.append(acc.item())\n",
    "\n",
    "   # return losses, accs\n",
    "    return losses, accs, output_labels"
   ]
  },
  {
   "cell_type": "code",
   "execution_count": 19,
   "metadata": {
    "id": "E2vBtygnXAg4"
   },
   "outputs": [],
   "source": [
    "def test(test_loader, model, optimizer):\n",
    "    losses = []\n",
    "    accs = []\n",
    "    accs_plot = []\n",
    "    losses_plot = []\n",
    "    output_labels = np.array([])\n",
    "    test_labels = np.array([])\n",
    "    \n",
    "    model.eval()\n",
    "    \n",
    "    for i, (images, target) in enumerate(tqdm(test_loader, position=0, leave=True)):\n",
    " \n",
    "        images, target = images.to(device), target.to(device)\n",
    "        test_labels = np.append(test_labels, target.cpu().detach().numpy())\n",
    "\n",
    "        # compute output\n",
    "        output = model(images)\n",
    "        prediction = output.argmax(1)\n",
    "        output_labels = np.append(output_labels, prediction.cpu().detach().numpy())\n",
    "        # loss = criterion(output, target)\n",
    "        \n",
    "        # measure accuracy and record loss\n",
    "        loss = torch.nn.functional.cross_entropy(output, target)\n",
    "        \n",
    "        acc = accuracy(output, target)\n",
    "        losses.append(loss.item())\n",
    "        accs.append(acc.item())\n",
    "        if i%50 == 0:\n",
    "            accs_plot.append(acc.item())\n",
    "            losses_plot.append(loss.item())\n",
    "\n",
    "    return losses, accs, output_labels, accs_plot, losses_plot, test_labels\n",
    "    # return losses, accs\n",
    "      "
   ]
  },
  {
   "cell_type": "markdown",
   "metadata": {
    "id": "zCacTWOZO1ht"
   },
   "source": [
    "AlexNet Model"
   ]
  },
  {
   "cell_type": "code",
   "execution_count": 20,
   "metadata": {
    "colab": {
     "base_uri": "https://localhost:8080/"
    },
    "id": "BtUdvkgOjQdT",
    "outputId": "109ef461-4b55-4201-9438-4d7cb5ef374e"
   },
   "outputs": [
    {
     "name": "stderr",
     "output_type": "stream",
     "text": [
      "Using cache found in /root/.cache/torch/hub/pytorch_vision_v0.6.0\n"
     ]
    }
   ],
   "source": [
    "import torch\n",
    "import torch.nn as nn\n",
    "lr = 0.01\n",
    "num_epochs = 4\n",
    "criterion = nn.CrossEntropyLoss()\n",
    "\n",
    "def accuracy(y_hat, y):\n",
    "    pred = torch.argmax(y_hat, dim=1)\n",
    "    return (pred == y).float().mean()\n",
    "\n",
    "\n",
    "model_alexnet = torch.hub.load('pytorch/vision:v0.6.0', 'alexnet', pretrained=False)\n",
    "model_alexnet = model_alexnet.to(device)\n"
   ]
  },
  {
   "cell_type": "code",
   "execution_count": 21,
   "metadata": {
    "colab": {
     "base_uri": "https://localhost:8080/"
    },
    "id": "9gqE9Rm-X8xY",
    "outputId": "5dd92da0-e35d-4ada-ca0b-8322fc5a0a62"
   },
   "outputs": [
    {
     "name": "stderr",
     "output_type": "stream",
     "text": [
      "  0%|          | 0/3750 [00:00<?, ?it/s]"
     ]
    },
    {
     "name": "stdout",
     "output_type": "stream",
     "text": [
      "\n",
      " epoch:  1 \n",
      " Train Phase\n"
     ]
    },
    {
     "name": "stderr",
     "output_type": "stream",
     "text": [
      "100%|██████████| 3750/3750 [01:01<00:00, 61.31it/s]\n",
      "  0%|          | 0/3750 [00:00<?, ?it/s]"
     ]
    },
    {
     "name": "stdout",
     "output_type": "stream",
     "text": [
      "   mean of losses: 0.4862161030582419\n",
      "   mean of accuracies: 0.8537333333333333\n",
      "\n",
      " epoch:  2 \n",
      " Train Phase\n"
     ]
    },
    {
     "name": "stderr",
     "output_type": "stream",
     "text": [
      "100%|██████████| 3750/3750 [01:00<00:00, 61.48it/s]\n",
      "  0%|          | 0/3750 [00:00<?, ?it/s]"
     ]
    },
    {
     "name": "stdout",
     "output_type": "stream",
     "text": [
      "   mean of losses: 0.086427903307687\n",
      "   mean of accuracies: 0.9716666666666667\n",
      "\n",
      " epoch:  3 \n",
      " Train Phase\n"
     ]
    },
    {
     "name": "stderr",
     "output_type": "stream",
     "text": [
      "100%|██████████| 3750/3750 [01:01<00:00, 61.29it/s]\n",
      "  0%|          | 0/3750 [00:00<?, ?it/s]"
     ]
    },
    {
     "name": "stdout",
     "output_type": "stream",
     "text": [
      "   mean of losses: 0.05766208748325109\n",
      "   mean of accuracies: 0.9810666666666666\n",
      "\n",
      " epoch:  4 \n",
      " Train Phase\n"
     ]
    },
    {
     "name": "stderr",
     "output_type": "stream",
     "text": [
      "100%|██████████| 3750/3750 [01:01<00:00, 61.37it/s]\n",
      "100%|██████████| 4/4 [04:04<00:00, 61.12s/it]\n",
      "  0%|          | 0/373 [00:00<?, ?it/s]"
     ]
    },
    {
     "name": "stdout",
     "output_type": "stream",
     "text": [
      "   mean of losses: 0.041022413087120506\n",
      "   mean of accuracies: 0.9874\n",
      "\n",
      "Test Phase\n"
     ]
    },
    {
     "name": "stderr",
     "output_type": "stream",
     "text": [
      "100%|██████████| 373/373 [00:05<00:00, 70.88it/s]"
     ]
    },
    {
     "name": "stdout",
     "output_type": "stream",
     "text": [
      "   mean of losses: 0.06647244122497206\n",
      "   mean of accuracies: 0.9772117962466488\n"
     ]
    },
    {
     "name": "stderr",
     "output_type": "stream",
     "text": [
      "\n"
     ]
    }
   ],
   "source": [
    "optimizer = torch.optim.SGD(model_alexnet.parameters(), lr=lr)\n",
    "predicted_labels_train_alex = []\n",
    "predicted_labels_test_alex = []\n",
    "\n",
    "for epoch in tqdm(range(0, num_epochs)):\n",
    "\n",
    "        # train phase\n",
    "        print(\"\\n epoch: \",epoch+1,\"\\n Train Phase\")\n",
    "\n",
    "        losses, accs, predicted_labels_train_alex = train(dataloaders['Train'], model_alexnet, optimizer)\n",
    "        # print(\"   losses\",losses)\n",
    "        print(\"   mean of losses:\", mean(losses))\n",
    "        # print(\"   accs\",accs)\n",
    "        print(\"   mean of accuracies:\", mean(accs))\n",
    "        \n",
    "# test phase\n",
    "print(\"\\nTest Phase\")\n",
    "losses_alex, accs_alex, predicted_labels_test_alex, accs_plot_alex, losses_plot_alex, test_labels_alex = test(dataloaders['Test'], model_alexnet, optimizer)\n",
    "Accuracy_alex = str(round(mean(accs_alex)*100, 2))\n",
    "# print(\"   losses\",losses_alex)\n",
    "print(\"   mean of losses:\", mean(losses_alex))\n",
    "# print(\"   accs\",accs_alex)\n",
    "print(\"   mean of accuracies:\", mean(accs_alex))"
   ]
  },
  {
   "cell_type": "markdown",
   "metadata": {
    "id": "SlLua6e-cnT8"
   },
   "source": [
    "Model"
   ]
  },
  {
   "cell_type": "code",
   "execution_count": 22,
   "metadata": {
    "id": "s6DwQGyuU8YT"
   },
   "outputs": [],
   "source": [
    "class block(nn.Module):\n",
    "    def __init__(self, filters, subsample = False):\n",
    "        super().__init__()\n",
    "        \n",
    "        s = 0.5 if subsample else 1.0\n",
    "\n",
    "        # layers\n",
    "        self.conv1 = nn.Conv2d(int(filters*s), filters, kernel_size=3, \n",
    "                               stride=int(1/s), padding=1, bias=False)\n",
    "        self.bn1   = nn.BatchNorm2d(filters, track_running_stats=True)\n",
    "        self.relu1 = nn.ReLU()\n",
    "        self.conv2 = nn.Conv2d(filters, filters, kernel_size=3, stride=1, padding=1, bias=False)\n",
    "        self.bn2   = nn.BatchNorm2d(filters, track_running_stats=True)\n",
    "        self.relu2 = nn.ReLU()\n",
    "        self.downsample = nn.AvgPool2d(kernel_size=1, stride=2)\n",
    "\n",
    "        # initialise weights\n",
    "        for m in self.modules():\n",
    "            if isinstance(m, nn.Conv2d):\n",
    "                nn.init.kaiming_normal_(m.weight, mode='fan_out', nonlinearity='relu')\n",
    "            elif isinstance(m, nn.BatchNorm2d):\n",
    "                nn.init.constant_(m.weight, 1)\n",
    "                nn.init.constant_(m.bias, 0)   \n",
    "        \n",
    "    \n",
    "    def forward(self, x):\n",
    "        z = self.conv1(x)\n",
    "        z = self.bn1(z)\n",
    "        z = self.relu1(z)\n",
    "        \n",
    "        z = self.conv2(z)\n",
    "        z = self.bn2(z)\n",
    "        \n",
    "        # shortcut connection\n",
    "        if x.shape != z.shape:\n",
    "            d = self.downsample(x)\n",
    "            p = torch.mul(d, 0)\n",
    "            z = z + torch.cat((d, p), dim=1)\n",
    "        else:\n",
    "            z = z + x \n",
    "\n",
    "        z = self.relu2(z)\n",
    "        \n",
    "        return z\n",
    "\n",
    "\n",
    "\n",
    "class myModel(nn.Module):\n",
    "    def __init__(self, n):\n",
    "        super().__init__()\n",
    "        \n",
    "        # first layer\n",
    "        self.conv1 = nn.Conv2d(3, 64, kernel_size=3, stride=1, padding=1, bias=False)\n",
    "        self.bn1   = nn.BatchNorm2d(64, track_running_stats=True)\n",
    "        self.relu   = nn.ReLU()\n",
    "        \n",
    "        # blocks\n",
    "        self.block1 = nn.ModuleList([block(64, subsample=False) for _ in range(n)])\n",
    "\n",
    "        self.block21 = block(128, subsample=True)\n",
    "        self.block22 = nn.ModuleList([block(128, subsample=False) for _ in range(n-1)])\n",
    "\n",
    "        self.block31 = block(256, subsample=True)\n",
    "        self.block32 = nn.ModuleList([block(256, subsample=False) for _ in range(n-1)])\n",
    "        \n",
    "        \n",
    "        self.avgpool = nn.AdaptiveAvgPool2d((1, 1))\n",
    "        self.softmax = nn.LogSoftmax(dim=-1)\n",
    "\n",
    "        self.classifier = nn.Sequential(\n",
    "            nn.Dropout(),\n",
    "            nn.Linear(256 , 512),\n",
    "            nn.ReLU(inplace=True),\n",
    "            nn.Linear(512, 3),\n",
    "        )\n",
    "\n",
    "        \n",
    "        # initilise weights\n",
    "        for m in self.modules():\n",
    "            if isinstance(m, nn.Linear):\n",
    "                nn.init.kaiming_normal_(m.weight)\n",
    "                m.bias.data.zero_()      \n",
    "        \n",
    "        \n",
    "    def forward(self, x):\n",
    "        z = self.conv1(x)\n",
    "        z = self.bn1(z)\n",
    "        z = self.relu(z)\n",
    "\n",
    "        for l in self.block1: z = l(z)\n",
    "\n",
    "        z = self.block21(z)\n",
    "        for l in self.block22: \n",
    "            z = l(z)\n",
    "\n",
    "        z = self.block31(z)\n",
    "        for l in self.block32: \n",
    "            z = l(z)\n",
    "\n",
    "        z = self.avgpool(z)\n",
    "        z = z.view(z.size(0), -1)\n",
    "        z = self.classifier(z)\n",
    "        return self.softmax(z)"
   ]
  },
  {
   "cell_type": "code",
   "execution_count": 23,
   "metadata": {
    "id": "b9q4O6o9TJUX"
   },
   "outputs": [],
   "source": [
    "\n",
    "my_model = myModel(2)\n",
    "my_model = my_model.to(device)\n"
   ]
  },
  {
   "cell_type": "code",
   "execution_count": 24,
   "metadata": {
    "colab": {
     "base_uri": "https://localhost:8080/"
    },
    "id": "7DjVTOSUVuTM",
    "outputId": "b2731dca-8d57-4703-d37a-0fb77e0604fd"
   },
   "outputs": [
    {
     "name": "stderr",
     "output_type": "stream",
     "text": [
      "  0%|          | 0/3750 [00:00<?, ?it/s]"
     ]
    },
    {
     "name": "stdout",
     "output_type": "stream",
     "text": [
      "\n",
      "\n",
      " epoch:  1 \n",
      " Train Phase\n"
     ]
    },
    {
     "name": "stderr",
     "output_type": "stream",
     "text": [
      "100%|██████████| 3750/3750 [04:36<00:00, 13.55it/s]\n",
      "  0%|          | 0/3750 [00:00<?, ?it/s]"
     ]
    },
    {
     "name": "stdout",
     "output_type": "stream",
     "text": [
      "\n",
      "   mean of losses: 0.5225382066967276\n",
      "\n",
      "   mean of accuracies: 0.8098666666666666\n",
      "\n",
      "\n",
      " epoch:  2 \n",
      " Train Phase\n"
     ]
    },
    {
     "name": "stderr",
     "output_type": "stream",
     "text": [
      "100%|██████████| 3750/3750 [04:36<00:00, 13.56it/s]\n",
      "  0%|          | 0/3750 [00:00<?, ?it/s]"
     ]
    },
    {
     "name": "stdout",
     "output_type": "stream",
     "text": [
      "\n",
      "   mean of losses: 0.22486316704582035\n",
      "\n",
      "   mean of accuracies: 0.9157333333333333\n",
      "\n",
      "\n",
      " epoch:  3 \n",
      " Train Phase\n"
     ]
    },
    {
     "name": "stderr",
     "output_type": "stream",
     "text": [
      "100%|██████████| 3750/3750 [04:36<00:00, 13.55it/s]\n",
      "  0%|          | 0/3750 [00:00<?, ?it/s]"
     ]
    },
    {
     "name": "stdout",
     "output_type": "stream",
     "text": [
      "\n",
      "   mean of losses: 0.15052560499150422\n",
      "\n",
      "   mean of accuracies: 0.9458666666666666\n",
      "\n",
      "\n",
      " epoch:  4 \n",
      " Train Phase\n"
     ]
    },
    {
     "name": "stderr",
     "output_type": "stream",
     "text": [
      "100%|██████████| 3750/3750 [04:36<00:00, 13.54it/s]\n",
      "100%|██████████| 4/4 [18:27<00:00, 276.78s/it]\n",
      "  0%|          | 0/373 [00:00<?, ?it/s]"
     ]
    },
    {
     "name": "stdout",
     "output_type": "stream",
     "text": [
      "\n",
      "   mean of losses: 0.11191752028072854\n",
      "\n",
      "   mean of accuracies: 0.9605333333333334\n",
      "\n",
      "Test Phase\n"
     ]
    },
    {
     "name": "stderr",
     "output_type": "stream",
     "text": [
      "100%|██████████| 373/373 [00:09<00:00, 39.89it/s]"
     ]
    },
    {
     "name": "stdout",
     "output_type": "stream",
     "text": [
      "\n",
      "   mean of losses: 0.12851400249881886\n",
      "\n",
      "   mean of accuracies: 0.9584450402144772\n"
     ]
    },
    {
     "name": "stderr",
     "output_type": "stream",
     "text": [
      "\n"
     ]
    }
   ],
   "source": [
    "lr = 0.01\n",
    "num_epochs = 4\n",
    "optimizer = torch.optim.SGD(my_model.parameters(), lr=lr)\n",
    "predicted_labels_train = []\n",
    "predicted_labels_test = []\n",
    "for epoch in tqdm(range(0, num_epochs),position=0, leave=True):\n",
    "\n",
    "        # train phase\n",
    "        print(\"\\n\\n epoch: \",epoch+1,\"\\n Train Phase\")\n",
    "\n",
    "        # losses, accs, predicted_labels = train(dataloaders['Train'], model_alexnet, optimizer)\n",
    "        losses, accs, predicted_labels_train = train(dataloaders['Train'], my_model, optimizer)\n",
    "        # print(\"   losses\",losses)\n",
    "        print(\"\\n   mean of losses:\", mean(losses))\n",
    "        # print(\"   accs\",accs)\n",
    "        print(\"\\n   mean of accuracies:\", mean(accs))\n",
    "\n",
    "# test phase\n",
    "print(\"\\nTest Phase\")\n",
    "losses_model, accs_model, predicted_labels_test, accs_plot_model, losses_plot_model, test_labels  = test(dataloaders['Test'], my_model, optimizer)\n",
    "Accuracy_model = str(round(mean(accs_model)*100, 2))\n",
    "# print(\"   losses\",losses)\n",
    "print(\"\\n   mean of losses:\", mean(losses_model))\n",
    "# print(\"   accs\",accs)\n",
    "print(\"\\n   mean of accuracies:\", mean(accs_model))"
   ]
  },
  {
   "cell_type": "markdown",
   "metadata": {
    "id": "heGcs4JO26W0"
   },
   "source": [
    "# **Evaluation**\n",
    "Evaluatig the model in terms of accuracy, precision, recall and F1-measure"
   ]
  },
  {
   "cell_type": "markdown",
   "metadata": {
    "id": "OxpmicjFLG19"
   },
   "source": [
    "Getting Train and Test True Labels\n"
   ]
  },
  {
   "cell_type": "code",
   "execution_count": 25,
   "metadata": {
    "colab": {
     "base_uri": "https://localhost:8080/"
    },
    "id": "1eruXMpa3B1R",
    "outputId": "90ec4df0-7701-4003-d751-ac5c65d2ab59"
   },
   "outputs": [
    {
     "name": "stdout",
     "output_type": "stream",
     "text": [
      "Shape of train labels: (15000,)\n",
      "Shape of train predicted labels: (15000,)\n",
      "Shape of train predicted labels of AlexNet: (15000,)\n",
      "Shape of test labels: (1492,)\n",
      "Shape of test predicted labels: (1492,)\n",
      "Shape of test predicted labels of AlexNet: (1492,)\n"
     ]
    }
   ],
   "source": [
    "# Train True Labels\n",
    "train_labels = np.array([])\n",
    "for data,target in dataloaders['Train']:\n",
    "    train_labels = np.append(train_labels, target.detach().numpy())\n",
    "\n",
    "print(\"Shape of train labels: \" + str(train_labels.shape))\n",
    "print(\"Shape of train predicted labels: \" + str(predicted_labels_train.shape))\n",
    "print(\"Shape of train predicted labels of AlexNet: \" + str(predicted_labels_train_alex.shape))\n",
    "\n",
    "# Test True Labels\n",
    "#test_labels = np.array([])\n",
    "#for data,target in dataloaders['Test']:\n",
    "#    test_labels = np.append(test_labels, target.detach().numpy())\n",
    "print(\"Shape of test labels: \" + str(test_labels.shape))\n",
    "print(\"Shape of test predicted labels: \" + str(predicted_labels_test.shape))\n",
    "print(\"Shape of test predicted labels of AlexNet: \" + str(predicted_labels_test_alex.shape))\n"
   ]
  },
  {
   "cell_type": "markdown",
   "metadata": {
    "id": "go4SO7ooJ8Zc"
   },
   "source": [
    "### **Visulaizing accuracy and loss**"
   ]
  },
  {
   "cell_type": "code",
   "execution_count": 35,
   "metadata": {
    "colab": {
     "base_uri": "https://localhost:8080/",
     "height": 701
    },
    "id": "OdSPCmOUKGzd",
    "outputId": "fb64d5ed-e1b3-4d96-9187-4fa170ae67df"
   },
   "outputs": [
    {
     "data": {
      "text/plain": [
       "Text(0, 0.5, 'accuracy')"
      ]
     },
     "execution_count": 35,
     "metadata": {
      "tags": []
     },
     "output_type": "execute_result"
    },
    {
     "data": {
      "image/png": "[encoded data removed]",
      "text/plain": [
       "<Figure size 864x360 with 2 Axes>"
      ]
     },
     "metadata": {
      "needs_background": "light",
      "tags": []
     },
     "output_type": "display_data"
    },
    {
     "data": {
      "image/png": "[encoded data removed]",
      "text/plain": [
       "<Figure size 864x360 with 2 Axes>"
      ]
     },
     "metadata": {
      "needs_background": "light",
      "tags": []
     },
     "output_type": "display_data"
    }
   ],
   "source": [
    "# our Model\n",
    "fig,axs = plt.subplots(1,2,figsize=(12,5))\n",
    "axs[0].set_ylim([0, 1.5])\n",
    "axs[0].plot(losses_plot_model, color='orange')\n",
    "axs[0].set_title('Test Loss of the Model')\n",
    "axs[0].set_xlabel('iteration')\n",
    "axs[0].set_ylabel('loss')\n",
    "axs[1].set_ylim([0, 1.1])\n",
    "axs[1].plot(accs_plot_model, color='green')\n",
    "axs[1].set_title('Test Accuracy of the Model')\n",
    "axs[1].set_xlabel('iteration')\n",
    "axs[1].set_ylabel('accuracy')\n",
    "\n",
    "# AlexNet Model\n",
    "fig,axs = plt.subplots(1,2,figsize=(12,5))\n",
    "axs[0].set_ylim([0, 1.5])\n",
    "axs[0].plot(losses_plot_alex, color='orange')\n",
    "axs[0].set_title('Test Loss of AlexNet Model')\n",
    "axs[0].set_xlabel('iteration')\n",
    "axs[0].set_ylabel('loss')\n",
    "axs[1].set_ylim([0, 1.1])\n",
    "axs[1].plot(accs_plot_alex, color='green')\n",
    "axs[1].set_title('Test Accuracy of AlexNet Model')\n",
    "axs[1].set_xlabel('iteration')\n",
    "axs[1].set_ylabel('accuracy')"
   ]
  },
  {
   "cell_type": "markdown",
   "metadata": {
    "id": "C1UeNT-EL2ln"
   },
   "source": [
    "### **Confusion Matrix** "
   ]
  },
  {
   "cell_type": "code",
   "execution_count": 38,
   "metadata": {
    "colab": {
     "base_uri": "https://localhost:8080/",
     "height": 628
    },
    "id": "NCCGqyGHMNMb",
    "outputId": "3885f13a-b083-4f8a-e834-a44e5c1b8242"
   },
   "outputs": [
    {
     "data": {
      "application/vnd.google.colaboratory.intrinsic+json": {
       "type": "string"
      },
      "text/plain": [
       "''"
      ]
     },
     "execution_count": 38,
     "metadata": {
      "tags": []
     },
     "output_type": "execute_result"
    },
    {
     "data": {
      "text/plain": [
       "<Figure size 1080x864 with 0 Axes>"
      ]
     },
     "metadata": {
      "tags": []
     },
     "output_type": "display_data"
    },
    {
     "data": {
      "image/png": "[encoded data removed]",
      "text/plain": [
       "<Figure size 432x288 with 2 Axes>"
      ]
     },
     "metadata": {
      "needs_background": "light",
      "tags": []
     },
     "output_type": "display_data"
    },
    {
     "data": {
      "text/plain": [
       "<Figure size 1080x864 with 0 Axes>"
      ]
     },
     "metadata": {
      "tags": []
     },
     "output_type": "display_data"
    },
    {
     "data": {
      "image/png": "[encoded data removed]",
      "text/plain": [
       "<Figure size 432x288 with 2 Axes>"
      ]
     },
     "metadata": {
      "needs_background": "light",
      "tags": []
     },
     "output_type": "display_data"
    }
   ],
   "source": [
    "from sklearn.metrics import confusion_matrix, ConfusionMatrixDisplay\n",
    "\n",
    "\"\"\"\n",
    "plt.figure(figsize=(15,12))\n",
    "cnf_train = confusion_matrix(train_labels, predicted_labels_train)\n",
    "disp_train = ConfusionMatrixDisplay(confusion_matrix=cnf_train, display_labels=class_names)\n",
    "disp_train.plot() \n",
    "plt.title(\"Train Dataset Confusion Matrix\")\n",
    "\"\"\"\n",
    "\n",
    "plt.figure(figsize=(15,12))\n",
    "cnf_test = confusion_matrix(test_labels, predicted_labels_test)\n",
    "disp_test = ConfusionMatrixDisplay(confusion_matrix=cnf_test, display_labels=class_names)\n",
    "disp_test.plot(values_format='') \n",
    "plt.title(\"Test Dataset Confusion Matrix of Our Model\")\n",
    "\n",
    "plt.figure(figsize=(15,12))\n",
    "cnf_test_alex = confusion_matrix(test_labels_alex, predicted_labels_test_alex)\n",
    "disp_test_alex = ConfusionMatrixDisplay(confusion_matrix=cnf_test_alex, display_labels=class_names)\n",
    "disp_test_alex.plot(values_format='') \n",
    "plt.title(\"Test Dataset Confusion Matrix of AlexNet Model\")\n",
    "\n",
    ";"
   ]
  },
  {
   "cell_type": "markdown",
   "metadata": {
    "id": "V4NAd0hEOaF4"
   },
   "source": [
    "### **Precision and Recall**"
   ]
  },
  {
   "cell_type": "code",
   "execution_count": 28,
   "metadata": {
    "colab": {
     "base_uri": "https://localhost:8080/"
    },
    "id": "ZzIALUHsnl2Y",
    "outputId": "7f4eaaea-07e1-41ff-ef0c-38350894c263"
   },
   "outputs": [
    {
     "name": "stdout",
     "output_type": "stream",
     "text": [
      "------------------ Our Model ----------------\n",
      "Precision Micro = 95.84%\n",
      "Precision Macro = 96.16%\n",
      "Recall Micro = 95.84%\n",
      "Recall Macro = 95.75%\n",
      "------------------ AlexNet Model ----------------\n",
      "Precision Micro = 97.72%\n",
      "Precision Macro = 97.75%\n",
      "Recall Micro = 97.72%\n",
      "Recall Macro = 97.72%\n"
     ]
    }
   ],
   "source": [
    "from sklearn.metrics import precision_score, recall_score\n",
    "\n",
    "ytest = test_labels\n",
    "ytest_alex = test_labels_alex\n",
    "ypred = predicted_labels_test\n",
    "ypred_alex = predicted_labels_test_alex\n",
    "\n",
    "# precision of our model\n",
    "precision_micro = precision_score(ytest, ypred, average='micro')\n",
    "precision_macro = precision_score(ytest, ypred, average='macro')\n",
    "\n",
    "# recall of our model\n",
    "recall_micro = recall_score(ytest, ypred, average='micro')\n",
    "recall_macro = recall_score(ytest, ypred, average='macro')\n",
    "\n",
    "# precision of AlexNet model\n",
    "precision_micro_alex = precision_score(ytest_alex, ypred_alex, average='micro')\n",
    "precision_macro_alex = precision_score(ytest_alex, ypred_alex, average='macro')\n",
    "\n",
    "# recall of AlexNet model\n",
    "recall_micro_alex = recall_score(ytest_alex, ypred_alex, average='micro')\n",
    "recall_macro_alex = recall_score(ytest_alex, ypred_alex, average='macro')\n",
    "\n",
    "print(\"------------------ Our Model ----------------\")\n",
    "print(\"Precision Micro = \" + str(round(precision_micro*100, 2)) + \"%\")\n",
    "print(\"Precision Macro = \" + str(round(precision_macro*100, 2))+ \"%\")\n",
    "print(\"Recall Micro = \" + str(round(recall_micro*100, 2))+ \"%\")\n",
    "print(\"Recall Macro = \" + str(round(recall_macro*100, 2))+ \"%\")\n",
    "\n",
    "print(\"------------------ AlexNet Model ----------------\")\n",
    "print(\"Precision Micro = \" + str(round(precision_micro_alex*100, 2)) + \"%\")\n",
    "print(\"Precision Macro = \" + str(round(precision_macro_alex*100, 2))+ \"%\")\n",
    "print(\"Recall Micro = \" + str(round(recall_micro_alex*100, 2))+ \"%\")\n",
    "print(\"Recall Macro = \" + str(round(recall_macro_alex*100, 2))+ \"%\")"
   ]
  },
  {
   "cell_type": "markdown",
   "metadata": {
    "id": "IWZSwbG1VgO_"
   },
   "source": [
    "### **F1 Score**"
   ]
  },
  {
   "cell_type": "code",
   "execution_count": 30,
   "metadata": {
    "colab": {
     "base_uri": "https://localhost:8080/"
    },
    "id": "k6KzRc80Y7ij",
    "outputId": "f35ec26a-761f-4503-c58d-c415f7acaf40"
   },
   "outputs": [
    {
     "name": "stdout",
     "output_type": "stream",
     "text": [
      "------------------ Our Model ----------------\n",
      "F1 Score Micro = 95.84%\n",
      "F1 Score Macro = 95.8%\n",
      "------------------ AlexNet Model ----------------\n",
      "F1 Score Micro = 97.72%\n",
      "F1 Score Macro = 97.7%\n"
     ]
    }
   ],
   "source": [
    "from sklearn.metrics import f1_score\n",
    "\n",
    "ytest = test_labels\n",
    "ytest_alex = test_labels_alex\n",
    "ypred = predicted_labels_test\n",
    "ypred_alex = predicted_labels_test_alex\n",
    "\n",
    "# F1 Score of our model\n",
    "f1_micro = f1_score(ytest, ypred, average='micro')\n",
    "f1_macro = f1_score(ytest, ypred, average='macro')\n",
    "\n",
    "# F1 Score of AlexNet model\n",
    "f1_micro_alex = f1_score(ytest_alex, ypred_alex, average='micro')\n",
    "f1_macro_alex = f1_score(ytest_alex, ypred_alex, average='macro')\n",
    "\n",
    "print(\"------------------ Our Model ----------------\")\n",
    "print(\"F1 Score Micro = \" + str(round(f1_micro*100, 2))+ \"%\")\n",
    "print(\"F1 Score Macro = \" + str(round(f1_macro*100, 2))+ \"%\")\n",
    "\n",
    "print(\"------------------ AlexNet Model ----------------\")\n",
    "print(\"F1 Score Micro = \" + str(round(f1_micro_alex*100, 2))+ \"%\")\n",
    "print(\"F1 Score Macro = \" + str(round(f1_macro_alex*100, 2))+ \"%\")"
   ]
  },
  {
   "cell_type": "markdown",
   "metadata": {
    "id": "4Z2dH1uZrZhv"
   },
   "source": [
    "### **Overview of the results**"
   ]
  },
  {
   "cell_type": "code",
   "execution_count": 31,
   "metadata": {
    "colab": {
     "base_uri": "https://localhost:8080/",
     "height": 112
    },
    "id": "XtC5H9GUri9f",
    "outputId": "72723a9c-7729-4b47-bd5b-c06083cc8a72"
   },
   "outputs": [
    {
     "data": {
      "text/html": [
       "<div>\n",
       "<style scoped>\n",
       "    .dataframe tbody tr th:only-of-type {\n",
       "        vertical-align: middle;\n",
       "    }\n",
       "\n",
       "    .dataframe tbody tr th {\n",
       "        vertical-align: top;\n",
       "    }\n",
       "\n",
       "    .dataframe thead th {\n",
       "        text-align: right;\n",
       "    }\n",
       "</style>\n",
       "<table border=\"1\" class=\"dataframe\">\n",
       "  <thead>\n",
       "    <tr style=\"text-align: right;\">\n",
       "      <th></th>\n",
       "      <th>Model</th>\n",
       "      <th>Accuracy</th>\n",
       "      <th>Precision_micro</th>\n",
       "      <th>Precision_macro</th>\n",
       "      <th>Recall_micro</th>\n",
       "      <th>Recall_macro</th>\n",
       "      <th>F1_micro</th>\n",
       "      <th>F1_macro</th>\n",
       "    </tr>\n",
       "  </thead>\n",
       "  <tbody>\n",
       "    <tr>\n",
       "      <th>0</th>\n",
       "      <td>MyModel</td>\n",
       "      <td>95.84</td>\n",
       "      <td>0.958445</td>\n",
       "      <td>0.961572</td>\n",
       "      <td>0.958445</td>\n",
       "      <td>0.957459</td>\n",
       "      <td>0.958445</td>\n",
       "      <td>0.958032</td>\n",
       "    </tr>\n",
       "    <tr>\n",
       "      <th>1</th>\n",
       "      <td>AlexNet</td>\n",
       "      <td>97.72</td>\n",
       "      <td>0.977212</td>\n",
       "      <td>0.977533</td>\n",
       "      <td>0.977212</td>\n",
       "      <td>0.977157</td>\n",
       "      <td>0.977212</td>\n",
       "      <td>0.977009</td>\n",
       "    </tr>\n",
       "  </tbody>\n",
       "</table>\n",
       "</div>"
      ],
      "text/plain": [
       "     Model Accuracy  Precision_micro  ...  Recall_macro  F1_micro  F1_macro\n",
       "0  MyModel    95.84         0.958445  ...      0.957459  0.958445  0.958032\n",
       "1  AlexNet    97.72         0.977212  ...      0.977157  0.977212  0.977009\n",
       "\n",
       "[2 rows x 8 columns]"
      ]
     },
     "execution_count": 31,
     "metadata": {
      "tags": []
     },
     "output_type": "execute_result"
    }
   ],
   "source": [
    "pd_data = {'Model': [], \n",
    "           'Accuracy': [], \n",
    "           'Precision_micro': [], \n",
    "           'Precision_macro': [], \n",
    "           'Recall_micro': [], \n",
    "           'Recall_macro': [],\n",
    "           'F1_micro': [], \n",
    "           'F1_macro': []}\n",
    "df = pd.DataFrame(pd_data)\n",
    "\n",
    "new_row1 = {'Model': 'MyModel', \n",
    "           'Accuracy':Accuracy_model, \n",
    "           'Precision_micro':precision_micro, \n",
    "           'Precision_macro':precision_macro, \n",
    "           'Recall_micro':recall_micro, \n",
    "           'Recall_macro':recall_macro,\n",
    "           'F1_micro': f1_micro, \n",
    "           'F1_macro': f1_macro}\n",
    "\n",
    "\n",
    "new_row2 = {'Model': 'AlexNet', \n",
    "           'Accuracy':Accuracy_alex, \n",
    "           'Precision_micro':precision_micro_alex, \n",
    "           'Precision_macro':precision_macro_alex, \n",
    "           'Recall_micro':recall_micro_alex, \n",
    "           'Recall_macro':recall_macro_alex,\n",
    "           'F1_micro': f1_micro_alex, \n",
    "           'F1_macro': f1_macro_alex}\n",
    "\n",
    "df = df.append(new_row1, ignore_index=True)           \n",
    "df = df.append(new_row2, ignore_index=True)\n",
    "df"
   ]
  },
  {
   "cell_type": "markdown",
   "metadata": {
    "id": "ZBJkiGFIxJyc"
   },
   "source": [
    "## **Save and Load of the trained model**"
   ]
  },
  {
   "cell_type": "code",
   "execution_count": 63,
   "metadata": {
    "id": "eLKd5bYoY1gX"
   },
   "outputs": [],
   "source": [
    "# save model\n",
    "\"\"\"\n",
    "PATH = \"SavedModel.pt\"\n",
    "torch.save(my_model.state_dict(), PATH)\n",
    "\"\"\""
   ]
  },
  {
   "cell_type": "code",
   "execution_count": 65,
   "metadata": {
    "colab": {
     "base_uri": "https://localhost:8080/"
    },
    "id": "TBFaElpJ1XKd",
    "outputId": "8212408e-ef52-41c3-a255-a4a75c71801c"
   },
   "outputs": [
    {
     "name": "stderr",
     "output_type": "stream",
     "text": [
      "\r",
      "  0%|          | 0/373 [00:00<?, ?it/s]"
     ]
    },
    {
     "name": "stdout",
     "output_type": "stream",
     "text": [
      "\n",
      "Test Phase\n"
     ]
    },
    {
     "name": "stderr",
     "output_type": "stream",
     "text": [
      "100%|██████████| 373/373 [00:09<00:00, 39.62it/s]"
     ]
    },
    {
     "name": "stdout",
     "output_type": "stream",
     "text": [
      "\n",
      "   mean of losses: 0.12851400286480147\n",
      "\n",
      "   mean of accuracies: 0.9584450402144772\n"
     ]
    },
    {
     "name": "stderr",
     "output_type": "stream",
     "text": [
      "\n"
     ]
    }
   ],
   "source": [
    "\"\"\"\n",
    "new_model = myModel(2)\n",
    "new_model = new_model.to(device)\n",
    "\n",
    "\n",
    "new_model.load_state_dict(torch.load(PATH))\n",
    "new_model.eval()\n",
    "\n",
    "\n",
    "print(\"\\nTest Phase\")\n",
    "losses_model_new, accs_model_new, predicted_labels_test_new, accs_plot_model_new, losses_plot_model_new, test_labels_new  = test(dataloaders['Test'], new_model, optimizer)\n",
    "Accuracy_model_new = str(round(mean(accs_model_new)*100, 2))\n",
    "# print(\"   losses\",losses)\n",
    "print(\"\\n   mean of losses:\", mean(losses_model_new))\n",
    "# print(\"   accs\",accs)\n",
    "print(\"\\n   mean of accuracies:\", mean(accs_model_new))\n",
    "\"\"\""
   ]
  }
 ],
 "metadata": {
  "accelerator": "GPU",
  "colab": {
   "collapsed_sections": [],
   "name": "AI-project#1.ipynb",
   "provenance": []
  },
  "kernelspec": {
   "display_name": "Python 3",
   "language": "python",
   "name": "python3"
  },
  "language_info": {
   "codemirror_mode": {
    "name": "ipython",
    "version": 3
   },
   "file_extension": ".py",
   "mimetype": "text/x-python",
   "name": "python",
   "nbconvert_exporter": "python",
   "pygments_lexer": "ipython3",
   "version": "3.8.5"
  }
 },
 "nbformat": 4,
 "nbformat_minor": 1
}
